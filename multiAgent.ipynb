{
  "nbformat": 4,
  "nbformat_minor": 0,
  "metadata": {
    "colab": {
      "provenance": [],
      "authorship_tag": "ABX9TyMcyavqwdYgkUd6ErRdhwLf",
      "include_colab_link": true
    },
    "kernelspec": {
      "name": "python3",
      "display_name": "Python 3"
    },
    "language_info": {
      "name": "python"
    }
  },
  "cells": [
    {
      "cell_type": "markdown",
      "metadata": {
        "id": "view-in-github",
        "colab_type": "text"
      },
      "source": [
        "<a href=\"https://colab.research.google.com/github/geeta-gwalior/MultiAgent_GeminiAi/blob/main/multiAgent.ipynb\" target=\"_parent\"><img src=\"https://colab.research.google.com/assets/colab-badge.svg\" alt=\"Open In Colab\"/></a>"
      ]
    },
    {
      "cell_type": "markdown",
      "source": [
        "Install crewai,crewai_tools,langchain_google_genai"
      ],
      "metadata": {
        "id": "n7bGku8hZUoj"
      }
    },
    {
      "cell_type": "code",
      "source": [
        "from crewai import Agent,Crew,Process\n",
        "from crewai_tools import SerperDevTool\n",
        "#from tools import tool\n",
        "from dotenv import load_dotenv\n",
        "load_dotenv()\n",
        "from langchain_google_genai import ChatGoogleGenerativeAI\n",
        "import os\n",
        "from google.colab import userdata\n",
        "from crewai import Task"
      ],
      "metadata": {
        "id": "EV_4zLFYZK5O"
      },
      "execution_count": null,
      "outputs": []
    },
    {
      "cell_type": "code",
      "source": [
        "llm=ChatGoogleGenerativeAI(model=\"gemini-1.5-flash\",\n",
        "                           verbose=True,\n",
        "                           temperature=0.5,\n",
        "                           google_api_key=userdata.get('gemini_api'))"
      ],
      "metadata": {
        "id": "VXzeI04DZNlV"
      },
      "execution_count": null,
      "outputs": []
    },
    {
      "cell_type": "code",
      "source": [
        "os.environ['SERPER_API_KEY'] = userdata.get('serper_api_key')"
      ],
      "metadata": {
        "id": "eM2qs-OAdpGT"
      },
      "execution_count": null,
      "outputs": []
    },
    {
      "cell_type": "code",
      "source": [
        "tool = SerperDevTool()"
      ],
      "metadata": {
        "id": "QG3n6fNAcEXf"
      },
      "execution_count": null,
      "outputs": []
    },
    {
      "cell_type": "code",
      "source": [
        "Researcher=Agent(\n",
        "    role=\"Senior Researcher\",\n",
        "    goal='Try to get insights from this {topic}',\n",
        "    verbose=True,\n",
        "    memory=True,\n",
        "    backstory=(\n",
        "        \"use to get insight from article\"),\n",
        "\n",
        "\n",
        "    tools=[tool],\n",
        "    llm=llm,\n",
        "    allow_delegation=True\n",
        "\n",
        ")"
      ],
      "metadata": {
        "id": "pKSY7LdabDW7"
      },
      "execution_count": null,
      "outputs": []
    },
    {
      "cell_type": "code",
      "source": [
        "writer = Agent(\n",
        "  role='Writer',\n",
        "  goal='Write insights into file {topic}',\n",
        "  verbose=True,\n",
        "  memory=True,\n",
        "  backstory=(\n",
        "    \"Get insights and write into file\"\n",
        "  ),\n",
        "  tools=[tool],\n",
        "  llm=llm,\n",
        "  allow_delegation=False\n",
        ")"
      ],
      "metadata": {
        "id": "YsvfbKmVflaU"
      },
      "execution_count": null,
      "outputs": []
    },
    {
      "cell_type": "code",
      "source": [
        "research_task = Task(\n",
        "  description=(\n",
        "    \"Identify the important points in {topic}.\"\n",
        "\n",
        "    \"Your final report should clearly in the key points,\"\n",
        "\n",
        "  ),\n",
        "  expected_output='A comprehensive 1 paragraph',\n",
        "  tools=[tool],\n",
        "  agent=Researcher,\n",
        ")"
      ],
      "metadata": {
        "id": "shxmybAIf5Pu"
      },
      "execution_count": null,
      "outputs": []
    },
    {
      "cell_type": "code",
      "source": [
        "write_task = Task(\n",
        "  description=(\n",
        "    \"write an insightful article on {topic}.\"\n",
        "\n",
        "    \"This article should be easy to understand, engaging, and positive.\"\n",
        "  ),\n",
        "  expected_output='A 4 paragraph article on {topic} advancements formatted as markdown.',\n",
        "  tools=[tool],\n",
        "  agent=writer,\n",
        "  async_execution=False,\n",
        "  output_file='Article.md'  # Example of output customization\n",
        ")"
      ],
      "metadata": {
        "id": "_nYfhbpRgms4"
      },
      "execution_count": null,
      "outputs": []
    },
    {
      "cell_type": "code",
      "source": [
        "crew=Crew(\n",
        "    agents=[Researcher,writer],\n",
        "    tasks=[research_task,write_task],\n",
        "    process=Process.sequential,\n",
        "\n",
        ")"
      ],
      "metadata": {
        "id": "W7qVGTeuhQYi"
      },
      "execution_count": null,
      "outputs": []
    },
    {
      "cell_type": "code",
      "source": [
        "result=crew.kickoff(inputs={'topic':'how ai is replacing jobs'})\n",
        "print(result)"
      ],
      "metadata": {
        "colab": {
          "base_uri": "https://localhost:8080/"
        },
        "id": "zBAcr4fLhh-S",
        "outputId": "9ab195ae-1946-4b0c-d0ab-afca5a32415a"
      },
      "execution_count": null,
      "outputs": [
        {
          "output_type": "stream",
          "name": "stdout",
          "text": [
            "\n",
            "\n",
            "\u001b[1m> Entering new CrewAgentExecutor chain...\u001b[0m\n",
            "\u001b[32;1m\u001b[1;3mThought: I need to understand how AI is replacing jobs to identify the key points. \n",
            "\n",
            "Action: Search the internet\n",
            "Action Input: { \"search_query\": \"AI replacing jobs\" } \u001b[0m\u001b[95m \n",
            "\n",
            "\n",
            "Search results: Title: AI Taking Over Jobs: What to Know About the Future of Jobs - Built In\n",
            "Link: https://builtin.com/artificial-intelligence/ai-replacing-jobs-creating-jobs\n",
            "Snippet: According to the World Economic Forum's “The Future of Jobs Report 2020,” AI is expected to replace 85 million jobs worldwide by 2025. Though that sounds scary, ...\n",
            "---\n",
            "Title: How Will Artificial Intelligence Affect Jobs 2024-2030\n",
            "Link: https://www.nexford.edu/insights/how-will-ai-affect-jobs\n",
            "Snippet: The World Economic Forum has estimated that artificial intelligence will replace some 85 million jobs by 2025. Freethink says that 65% of retail ...\n",
            "---\n",
            "Title: Jobs that are safe from AI : r/OpenAI - Reddit\n",
            "Link: https://www.reddit.com/r/OpenAI/comments/1at49th/jobs_that_are_safe_from_ai/\n",
            "Snippet: The only jobs replaced by chatbased/digital ai will be support/customer service/front desk type stuff. Unskilled sitting down jobs that anybody ...\n",
            "---\n",
            "Title: These Are the Jobs That AI Is Actually Replacing in 2024 - Tech.co\n",
            "Link: https://tech.co/news/ai-replacing-jobs\n",
            "Snippet: Our research found that AI isn't influencing job replacement nearly as much as you'd think, with only 4% of businesses saying that AI has had an ...\n",
            "---\n",
            "Title: AI job losses are rising, but the numbers don't tell the full story - CNBC\n",
            "Link: https://www.cnbc.com/2023/12/16/ai-job-losses-are-rising-but-the-numbers-dont-tell-the-full-story.html\n",
            "Snippet: More than one-third (37%) of business leaders say AI replaced workers in 2023, according to a recent report from ResumeBuilder.\n",
            "---\n",
            "Title: AI Will Transform the Global Economy. Let's Make Sure It Benefits ...\n",
            "Link: https://www.imf.org/en/Blogs/Articles/2024/01/14/ai-will-transform-the-global-economy-lets-make-sure-it-benefits-humanity\n",
            "Snippet: Many studies have predicted the likelihood that jobs will be replaced by AI. Yet we know that in many cases AI is likely to complement human ...\n",
            "---\n",
            "Title: Will AI replace jobs? 9 job types that might be affected - TechTarget\n",
            "Link: https://www.techtarget.com/whatis/feature/Will-AI-replace-jobs-9-job-types-that-might-be-affected\n",
            "Snippet: AI is already replacing jobs, responsible for nearly 4,000 cuts made in May 2023, according to data from Challenger, Gray & Christmas Inc.\n",
            "---\n",
            "Title: Could AI potentially replace human jobs in the future? How can we ...\n",
            "Link: https://www.quora.com/Could-AI-potentially-replace-human-jobs-in-the-future-How-can-we-prepare-for-this-possibility\n",
            "Snippet: AI has the potential to replace many jobs in the future, as it can perform tasks that are currently difficult or impossible for humans to do.\n",
            "---\n",
            "Title: ChatGPT: the 10 Jobs Most at Risk of Being Replaced by AI\n",
            "Link: https://www.businessinsider.com/chatgpt-jobs-at-risk-replacement-artificial-intelligence-ai-labor-trends-2023-02\n",
            "Snippet: ChatGPT may be coming for our jobs. Here are the 10 roles that AI is most likely to replace. · Tech jobs (Coders, computer programmers, software ...\n",
            "---\n",
            "\n",
            "\u001b[00m\n",
            "\u001b[32;1m\u001b[1;3mThought: I need to understand how AI is replacing jobs to identify the key points. \n",
            "\n",
            "Action: Search the internet\n",
            "Action Input: { \"search_query\": \"AI replacing jobs\" } \u001b[0m\u001b[95m \n",
            "\n",
            "I tried reusing the same input, I must stop using this action input. I'll try something else instead.\n",
            "\n",
            "\n",
            "\u001b[00m\n",
            "\u001b[32;1m\u001b[1;3mThought: I need to understand how AI is replacing jobs to identify the key points. I can ask a coworker to summarize the key points from articles about AI replacing jobs.\n",
            "\n",
            "Action: Delegate work to co-worker\n",
            "Action Input: { \"coworker\": \"Writer\", \"task\": \"Summarize the key points from articles about AI replacing jobs. You can find articles by searching the internet for 'AI replacing jobs'.\", \"context\": \"I am a Senior Researcher trying to understand how AI is replacing jobs. I need to identify the key points from articles about this topic. Please summarize the key points in a comprehensive 1 paragraph report. Make sure to include information about the types of jobs being replaced, the impact on the workforce, and the potential benefits and drawbacks of AI replacing jobs.\" }\u001b[0m\n",
            "\n",
            "\u001b[1m> Entering new CrewAgentExecutor chain...\u001b[0m\n",
            "\u001b[32;1m\u001b[1;3mThought: I need to find articles about AI replacing jobs to gather information. \n",
            "Action: Search the internet\n",
            "Action Input: {\"search_query\": \"AI replacing jobs\"}\u001b[0m\u001b[95m \n",
            "\n",
            "\n",
            "Search results: Title: AI Taking Over Jobs: What to Know About the Future of Jobs - Built In\n",
            "Link: https://builtin.com/artificial-intelligence/ai-replacing-jobs-creating-jobs\n",
            "Snippet: According to the World Economic Forum's “The Future of Jobs Report 2020,” AI is expected to replace 85 million jobs worldwide by 2025. Though that sounds scary, ...\n",
            "---\n",
            "Title: How Will Artificial Intelligence Affect Jobs 2024-2030\n",
            "Link: https://www.nexford.edu/insights/how-will-ai-affect-jobs\n",
            "Snippet: The World Economic Forum has estimated that artificial intelligence will replace some 85 million jobs by 2025. Freethink says that 65% of retail ...\n",
            "---\n",
            "Title: Jobs that are safe from AI : r/OpenAI - Reddit\n",
            "Link: https://www.reddit.com/r/OpenAI/comments/1at49th/jobs_that_are_safe_from_ai/\n",
            "Snippet: The only jobs replaced by chatbased/digital ai will be support/customer service/front desk type stuff. Unskilled sitting down jobs that anybody ...\n",
            "---\n",
            "Title: These Are the Jobs That AI Is Actually Replacing in 2024 - Tech.co\n",
            "Link: https://tech.co/news/ai-replacing-jobs\n",
            "Snippet: Our research found that AI isn't influencing job replacement nearly as much as you'd think, with only 4% of businesses saying that AI has had an ...\n",
            "---\n",
            "Title: AI job losses are rising, but the numbers don't tell the full story - CNBC\n",
            "Link: https://www.cnbc.com/2023/12/16/ai-job-losses-are-rising-but-the-numbers-dont-tell-the-full-story.html\n",
            "Snippet: More than one-third (37%) of business leaders say AI replaced workers in 2023, according to a recent report from ResumeBuilder.\n",
            "---\n",
            "Title: AI Will Transform the Global Economy. Let's Make Sure It Benefits ...\n",
            "Link: https://www.imf.org/en/Blogs/Articles/2024/01/14/ai-will-transform-the-global-economy-lets-make-sure-it-benefits-humanity\n",
            "Snippet: Many studies have predicted the likelihood that jobs will be replaced by AI. Yet we know that in many cases AI is likely to complement human ...\n",
            "---\n",
            "Title: Will AI replace jobs? 9 job types that might be affected - TechTarget\n",
            "Link: https://www.techtarget.com/whatis/feature/Will-AI-replace-jobs-9-job-types-that-might-be-affected\n",
            "Snippet: AI is already replacing jobs, responsible for nearly 4,000 cuts made in May 2023, according to data from Challenger, Gray & Christmas Inc.\n",
            "---\n",
            "Title: Could AI potentially replace human jobs in the future? How can we ...\n",
            "Link: https://www.quora.com/Could-AI-potentially-replace-human-jobs-in-the-future-How-can-we-prepare-for-this-possibility\n",
            "Snippet: AI has the potential to replace many jobs in the future, as it can perform tasks that are currently difficult or impossible for humans to do.\n",
            "---\n",
            "Title: ChatGPT: the 10 Jobs Most at Risk of Being Replaced by AI\n",
            "Link: https://www.businessinsider.com/chatgpt-jobs-at-risk-replacement-artificial-intelligence-ai-labor-trends-2023-02\n",
            "Snippet: ChatGPT may be coming for our jobs. Here are the 10 roles that AI is most likely to replace. · Tech jobs (Coders, computer programmers, software ...\n",
            "---\n",
            "\n",
            "\u001b[00m\n",
            "\u001b[32;1m\u001b[1;3m\u001b[0m\u001b[32;1m\u001b[1;3mThought: I need to analyze the information from the articles I found to summarize the key points about AI replacing jobs. \n",
            "\n",
            "Thought: I now can give a great answer\n",
            "Final Answer: Artificial intelligence (AI) is increasingly automating tasks, leading to concerns about job displacement. While AI is already replacing some jobs, particularly in routine and repetitive tasks, it's not a complete takeover.  Jobs in customer service, data entry, and manufacturing are among those most susceptible to AI automation. The impact on the workforce is complex, with potential for both job losses and new opportunities. The benefits of AI include increased efficiency, productivity, and accuracy, while drawbacks include potential job displacement, ethical concerns, and the need for retraining and upskilling. The future of work will likely involve a blend of human and AI collaboration, where AI assists humans in performing complex tasks and humans focus on creative, strategic, and interpersonal roles. \n",
            "\u001b[0m\n",
            "\n",
            "\u001b[1m> Finished chain.\u001b[0m\n",
            "\u001b[95m \n",
            "\n",
            "Artificial intelligence (AI) is increasingly automating tasks, leading to concerns about job displacement. While AI is already replacing some jobs, particularly in routine and repetitive tasks, it's not a complete takeover.  Jobs in customer service, data entry, and manufacturing are among those most susceptible to AI automation. The impact on the workforce is complex, with potential for both job losses and new opportunities. The benefits of AI include increased efficiency, productivity, and accuracy, while drawbacks include potential job displacement, ethical concerns, and the need for retraining and upskilling. The future of work will likely involve a blend of human and AI collaboration, where AI assists humans in performing complex tasks and humans focus on creative, strategic, and interpersonal roles.\n",
            "\u001b[00m\n",
            "\u001b[32;1m\u001b[1;3mThought: I now know the final answer\n",
            "Final Answer: AI is automating tasks, leading to job displacement in areas like customer service, data entry, and manufacturing. While it offers benefits like efficiency and productivity, it also raises concerns about job losses and ethical implications. The future of work will likely involve humans and AI collaborating, with AI assisting in complex tasks and humans focusing on creative, strategic, and interpersonal roles. \n",
            "\u001b[0m\n",
            "\n",
            "\u001b[1m> Finished chain.\u001b[0m\n",
            "\n",
            "\n",
            "\u001b[1m> Entering new CrewAgentExecutor chain...\u001b[0m\n",
            "\u001b[32;1m\u001b[1;3mThought: I need to gather information on how AI is replacing jobs, focusing on the positive aspects and the future of work.\n",
            "\n",
            "Action: Search the internet\n",
            "Action Input: {\"search_query\": \"AI replacing jobs positive impact\"}\n",
            "\u001b[0m\u001b[95m \n",
            "\n",
            "\n",
            "Search results: Title: How Will Artificial Intelligence Affect Jobs 2024-2030\n",
            "Link: https://www.nexford.edu/insights/how-will-ai-affect-jobs\n",
            "Snippet: Experts say that ai and machine learning will help workers by creating more occupations than it replaces. That said, in order to ride the wave ...\n",
            "---\n",
            "Title: AI Taking Over Jobs: What to Know About the Future of Jobs - Built In\n",
            "Link: https://builtin.com/artificial-intelligence/ai-replacing-jobs-creating-jobs\n",
            "Snippet: According to the World Economic Forum's “The Future of Jobs Report 2020,” AI is expected to replace 85 million jobs worldwide by 2025. Though that sounds scary, ...\n",
            "---\n",
            "Title: The Rise of AI: How Artificial Intelligence is Impacting the Job Market\n",
            "Link: https://insightglobal.com/blog/how-ai-is-impacting-job-market/\n",
            "Snippet: The Positive Effects of AI on Jobs · 1. Increased Productivity and Efficiency · 2. Increased Overall Business Revenue · 3. The Rise of the AI Job ...\n",
            "---\n",
            "Title: How AI Is Shifting The World Of Employment - Forbes\n",
            "Link: https://www.forbes.com/sites/paolacecchi-dimeglio/2023/07/28/how-ai-is-shifting-the-world-of-employment/\n",
            "Snippet: Even in a high-income nation, the loss of jobs to AI can send negative ripple effects across the economy. Leaders can make choices that ...\n",
            "---\n",
            "Title: AI's Impact on Jobs and Work Is a Choice Between Two Futures\n",
            "Link: https://ssir.org/articles/entry/ai-impact-on-jobs-and-work\n",
            "Snippet: Rapid advances in AI threaten to eliminate many jobs, and not just those of writers and actors. Jobs with routine elements, such as in ...\n",
            "---\n",
            "Title: AI Replacing Jobs Statistics: The Impact on Employment in 2024\n",
            "Link: https://seo.ai/blog/ai-replacing-jobs-statistics\n",
            "Snippet: 81% of office workers think AI improves their job performance. AI's Positive Workplace Influence. 7, 30% of workers fear their job will soon be replaced by ...\n",
            "---\n",
            "Title: The Positive Effect of AI On The Job Market - Summit Human Capital\n",
            "Link: https://summithumancapital.com/the-positive-effect-of-ai-on-the-job-market\n",
            "Snippet: The most likely outcome of AI is that an entire new realm of businesses will continue to appear — many we can't even imagine yet. Think about how the auto ...\n",
            "---\n",
            "Title: AI Will Transform the Global Economy. Let's Make Sure It Benefits ...\n",
            "Link: https://www.imf.org/en/Blogs/Articles/2024/01/14/ai-will-transform-the-global-economy-lets-make-sure-it-benefits-humanity\n",
            "Snippet: AI will affect almost 40 percent of jobs around the world, replacing some and complementing others. We need a careful balance of policies to ...\n",
            "---\n",
            "Title: Futurists Positive About AI's Impact On Jobs, Urge Wide Perspective\n",
            "Link: https://www.forbes.com/sites/joemckendrick/2024/03/11/futurists-positive-about-ais-impact-on-jobs-urge-wide-perspective/\n",
            "Snippet: “AI will replace most entry level jobs — we will need to completely overhaul our education systems and work place assumptions so that we begin ...\n",
            "---\n",
            "\n",
            "\u001b[00m\n",
            "\u001b[32;1m\u001b[1;3mThought: I need to gather information on how AI is replacing jobs, focusing on the positive aspects and the future of work.\n",
            "\n",
            "Action: Search the internet\n",
            "Action Input: {\"search_query\": \"AI replacing jobs positive impact\"}\n",
            "\u001b[0m\u001b[95m \n",
            "\n",
            "I tried reusing the same input, I must stop using this action input. I'll try something else instead.\n",
            "\n",
            "\n",
            "\u001b[00m\n",
            "\u001b[32;1m\u001b[1;3mThought: I need to gather information on how AI is replacing jobs, focusing on the positive aspects and the future of work.\n",
            "\n",
            "Action: Search the internet\n",
            "Action Input: {\"search_query\": \"AI replacing jobs positive impact future of work\"}\n",
            "\u001b[0m\u001b[95m \n",
            "\n",
            "\n",
            "Search results: Title: AI's Impact on Jobs and Work Is a Choice Between Two Futures\n",
            "Link: https://ssir.org/articles/entry/ai-impact-on-jobs-and-work\n",
            "Snippet: Rapid advances in AI threaten to eliminate many jobs, but there are still two distinct paths this AI revolution could take.\n",
            "---\n",
            "Title: AI Taking Over Jobs: What to Know About the Future of Jobs - Built In\n",
            "Link: https://builtin.com/artificial-intelligence/ai-replacing-jobs-creating-jobs\n",
            "Snippet: Despite fears of job loss due to automation, AI does offer major advantages to companies and workers who embrace the technology. More Focused and Engaging Tasks.\n",
            "---\n",
            "Title: Why there will be plenty of jobs in the future - even with AI\n",
            "Link: https://www.weforum.org/agenda/2024/02/artificial-intelligence-ai-jobs-future/\n",
            "Snippet: New technology always causes alarm about its potential harm to jobs. But while AI will have huge impact, there will still be plenty of work ...\n",
            "---\n",
            "Title: How AI Is Changing The Future Of Work - Forbes\n",
            "Link: https://www.forbes.com/sites/marenbannon/2023/06/22/how-ai-is-changing-the-future-of-work/\n",
            "Snippet: More recently, a report by Goldman Sachs suggested that artificial intelligence (AI) could replace a staggering 300 million full time jobs. Yet ...\n",
            "---\n",
            "Title: Insights on Generative AI and the Future of Work | NC Commerce\n",
            "Link: https://www.commerce.nc.gov/news/the-lead-feed/generative-ai-and-future-work\n",
            "Snippet: AI may impact jobs that were previously thought to be safe from automation. · AI may be used to augment and improve work. · AI may have positive ...\n",
            "---\n",
            "Title: AI Replacing Jobs Statistics: The Impact on Employment in 2024\n",
            "Link: https://seo.ai/blog/ai-replacing-jobs-statistics\n",
            "Snippet: 81% of office workers think AI improves their job performance. AI's Positive Workplace Influence. 7, 30% of workers fear their job will soon be replaced by ...\n",
            "---\n",
            "Title: Generative AI and the future of work in America - McKinsey\n",
            "Link: https://www.mckinsey.com/mgi/our-research/generative-ai-and-the-future-of-work-in-america\n",
            "Snippet: Generative AI has the potential to change the future of work in America. We look at which jobs will be in demand and which ones may be at ...\n",
            "---\n",
            "Title: The impact of artificial intelligence on employment: the role of virtual ...\n",
            "Link: https://www.nature.com/articles/s41599-024-02647-9\n",
            "Snippet: The positive effect of artificial intelligence on employment exhibits an inevitable heterogeneity, and it serves to relatively improves the job ...\n",
            "---\n",
            "Title: Will AI replace jobs? 9 job types that might be affected - TechTarget\n",
            "Link: https://www.techtarget.com/whatis/feature/Will-AI-replace-jobs-9-job-types-that-might-be-affected\n",
            "Snippet: Other ways AI could affect jobs. Job replacement isn't the only effect AI could have on work. The positive angle is human-machine cooperation.\n",
            "---\n",
            "\n",
            "\u001b[00m\n",
            "\u001b[32;1m\u001b[1;3mThought: I now know the final answer\n",
            "Final Answer:  The rise of artificial intelligence (AI) is transforming the job market, creating both excitement and apprehension. While some fear that AI will eliminate jobs, it's crucial to remember that AI is not about replacing humans entirely, but rather about augmenting our capabilities.\n",
            "\n",
            "AI is automating repetitive tasks, freeing up human workers to focus on more creative, strategic, and interpersonal roles. This means that jobs requiring high levels of creativity, problem-solving, and emotional intelligence are less likely to be replaced by AI. In fact, AI is creating new opportunities in fields like AI development, data analysis, and AI ethics.\n",
            "\n",
            "The future of work will likely involve humans and AI collaborating. AI can handle complex tasks like data analysis and pattern recognition, while humans can provide the critical thinking, judgment, and empathy that AI currently lacks. This collaboration will lead to increased productivity, efficiency, and innovation.\n",
            "\n",
            "Instead of fearing job losses, we should embrace the opportunities that AI presents. By investing in education and training, we can equip ourselves with the skills needed to thrive in the AI-powered workforce. The future of work is not about humans versus AI, but about humans and AI working together to create a brighter future. \n",
            "\u001b[0m\n",
            "\n",
            "\u001b[1m> Finished chain.\u001b[0m\n",
            "The rise of artificial intelligence (AI) is transforming the job market, creating both excitement and apprehension. While some fear that AI will eliminate jobs, it's crucial to remember that AI is not about replacing humans entirely, but rather about augmenting our capabilities.\n",
            "\n",
            "AI is automating repetitive tasks, freeing up human workers to focus on more creative, strategic, and interpersonal roles. This means that jobs requiring high levels of creativity, problem-solving, and emotional intelligence are less likely to be replaced by AI. In fact, AI is creating new opportunities in fields like AI development, data analysis, and AI ethics.\n",
            "\n",
            "The future of work will likely involve humans and AI collaborating. AI can handle complex tasks like data analysis and pattern recognition, while humans can provide the critical thinking, judgment, and empathy that AI currently lacks. This collaboration will lead to increased productivity, efficiency, and innovation.\n",
            "\n",
            "Instead of fearing job losses, we should embrace the opportunities that AI presents. By investing in education and training, we can equip ourselves with the skills needed to thrive in the AI-powered workforce. The future of work is not about humans versus AI, but about humans and AI working together to create a brighter future.\n"
          ]
        }
      ]
    }
  ]
}